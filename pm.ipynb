{
  "cells": [
    {
      "cell_type": "markdown",
      "metadata": {
        "id": "hK2qx16izkiP"
      },
      "source": [
        "\n"
      ]
    },
    {
      "cell_type": "markdown",
      "metadata": {
        "id": "K0k6i1pf2FQG"
      },
      "source": [
        "#Pytorch on CIFAR-10 Dataset with Batch Normalisation and Dropout on Convolution Layers output after the activation function "
      ]
    },
    {
      "cell_type": "code",
      "execution_count": null,
      "metadata": {
        "id": "ExUAxsshF398",
        "scrolled": true
      },
      "outputs": [],
      "source": [
        "# # Install torchvision\n",
        "# !pip3 install torch==1.2.0+cu92 torchvision==0.4.0+cu92 -f https://download.pytorch.org/whl/torch_stable.html"
      ]
    },
    {
      "cell_type": "code",
      "execution_count": 1,
      "metadata": {
        "id": "EY1oIBQPJzLn"
      },
      "outputs": [],
      "source": [
        "'''ResNet in PyTorch.\n",
        "Reference:\n",
        "[1] Kaiming He, Xiangyu Zhang, Shaoqing Ren, Jian Sun\n",
        "    Deep Residual Learning for Image Recognition.\n",
        "[2] https://github.com/kuangliu/pytorch-cifar\n",
        "[3] https://github.com/abhisikdar/RESNET18-CIFAR10 \n",
        "[4] https://www.srose.biz/wp-content/uploads/2020/08/Batch-Size-and-Epochs.html  \n",
        "'''\n",
        "import torch\n",
        "import torch.nn as nn\n",
        "import torch.nn.functional as F\n",
        "\n",
        "\n",
        "class BasicBlock(nn.Module):\n",
        "    expansion = 1\n",
        "\n",
        "    def __init__(self, in_planes, planes, stride=1):\n",
        "        super(BasicBlock, self).__init__()\n",
        "        self.conv1 = nn.Conv2d(\n",
        "            in_planes, planes, kernel_size=3, stride=stride, padding=1, bias=False)\n",
        "        self.bn1 = nn.BatchNorm2d(planes)\n",
        "        self.conv2 = nn.Conv2d(planes, planes, kernel_size=3,\n",
        "                               stride=1, padding=1, bias=False)\n",
        "        self.bn2 = nn.BatchNorm2d(planes)\n",
        "\n",
        "        self.shortcut = nn.Sequential()\n",
        "        \n",
        "        if stride != 1 or in_planes != self.expansion*planes:\n",
        "            self.shortcut = nn.Sequential(\n",
        "                nn.Conv2d(in_planes, self.expansion*planes,\n",
        "                          kernel_size=1, stride=stride, bias=False),\n",
        "                nn.BatchNorm2d(self.expansion*planes)\n",
        "            )\n",
        "        # Dropout after Convolutional BasicBlock\n",
        "        self.dropout = nn.Dropout(0.25)\n",
        "\n",
        "    def forward(self, x):\n",
        "        out = F.relu(self.bn1(self.conv1(x)))\n",
        "        out = self.dropout(out)\n",
        "        out = self.bn2(self.conv2(out))\n",
        "        out += self.shortcut(x)\n",
        "        out = F.relu(out)\n",
        "        return out\n",
        "\n",
        "\n",
        "\n",
        "\n",
        "class ResNet(nn.Module):\n",
        "    def __init__(self, block, num_blocks, num_classes=10):\n",
        "        super(ResNet, self).__init__()\n",
        "        self.in_planes = 64\n",
        "\n",
        "        self.conv1 = nn.Conv2d(3, 64, kernel_size=3,\n",
        "                               stride=1, padding=1, bias=False)\n",
        "        self.bn1 = nn.BatchNorm2d(64)\n",
        "        self.layer1 = self._make_layer(block, 64, num_blocks[0], stride=1)\n",
        "        self.layer2 = self._make_layer(block, 128, num_blocks[1], stride=2)\n",
        "        self.layer3 = self._make_layer(block, 256, num_blocks[2], stride=2)\n",
        "        self.layer4 = self._make_layer(block, 512, num_blocks[3], stride=2)\n",
        "        self.linear = nn.Linear(512*block.expansion, num_classes)\n",
        "        self.dropout = nn.Dropout(0.25)\n",
        "\n",
        "    def _make_layer(self, block, planes, num_blocks, stride):\n",
        "        strides = [stride] + [1]*(num_blocks-1)\n",
        "        layers = []\n",
        "        for stride in strides:\n",
        "            layers.append(block(self.in_planes, planes, stride))\n",
        "            self.in_planes = planes * block.expansion\n",
        "        return nn.Sequential(*layers)\n",
        "\n",
        "    def forward(self, x):\n",
        "        out = F.relu(self.bn1(self.conv1(x)))\n",
        "        out = self.dropout(out)\n",
        "        out = self.layer1(out)\n",
        "        out = self.layer2(out)\n",
        "        out = self.layer3(out)\n",
        "        out = self.layer4(out)\n",
        "        out = F.avg_pool2d(out, 4)\n",
        "        out = out.view(out.size(0), -1)\n",
        "        out = self.linear(out)\n",
        "        return out\n",
        "\n",
        "\n",
        "def ResNet18():\n",
        "    return ResNet(BasicBlock, [2, 2, 2, 2])\n",
        "\n",
        "\n",
        "def test():\n",
        "    net = ResNet18()\n",
        "    y = net(torch.randn(1, 3, 32, 32))\n",
        "    print(y.size())"
      ]
    },
    {
      "cell_type": "code",
      "execution_count": 2,
      "metadata": {
        "colab": {
          "base_uri": "https://localhost:8080/"
        },
        "id": "I3vJfiujKAA8",
        "outputId": "3899f615-7b59-4c45-93db-cc5d1c8fc4c0"
      },
      "outputs": [
        {
          "output_type": "stream",
          "name": "stdout",
          "text": [
            "Is CUDA available True\n",
            "Torch 2.0.0+cu118 CUDA 11.8\n",
            "Device: cuda:0\n"
          ]
        }
      ],
      "source": [
        "# import torch\n",
        "from torchvision import datasets\n",
        "from torchvision import transforms\n",
        "import matplotlib.pyplot as plt\n",
        "import torch.nn as nn\n",
        "import torch.nn.functional as F\n",
        "import torchvision.models as models\n",
        "import torch.backends.cudnn as cudnn\n",
        "\n",
        "print('Is CUDA available', torch.cuda.is_available())\n",
        "print('Torch', torch.__version__, 'CUDA', torch.version.cuda)\n",
        "print('Device:', torch.device('cuda:0'))"
      ]
    },
    {
      "cell_type": "markdown",
      "metadata": {
        "id": "Bl1ayyQoV12D"
      },
      "source": [
        "# Data Pre-processing</br>\n",
        "1. Random cropping, with size 32x32 and padding 4</br>\n",
        "2. Random horizontal flipping with a probability of 0.5</br>\n",
        "3. Normalize each image’s RGB channel with mean() and std()</br>"
      ]
    },
    {
      "cell_type": "code",
      "execution_count": 3,
      "metadata": {
        "colab": {
          "base_uri": "https://localhost:8080/"
        },
        "id": "5Q8yZoewbH-c",
        "outputId": "75a97a51-f052-4d89-fbf8-599f757395b7"
      },
      "outputs": [
        {
          "output_type": "stream",
          "name": "stdout",
          "text": [
            "Downloading https://www.cs.toronto.edu/~kriz/cifar-10-python.tar.gz to ../data/cifar-10-python.tar.gz\n"
          ]
        },
        {
          "output_type": "stream",
          "name": "stderr",
          "text": [
            "100%|██████████| 170498071/170498071 [00:06<00:00, 28370547.93it/s]\n"
          ]
        },
        {
          "output_type": "stream",
          "name": "stdout",
          "text": [
            "Extracting ../data/cifar-10-python.tar.gz to ../data/\n",
            "Files already downloaded and verified\n"
          ]
        }
      ],
      "source": [
        "data_path='../data/'\n",
        "cifar=datasets.CIFAR10(data_path, train= True, download=True, transform=transforms.ToTensor())\n",
        "cifar_val=datasets.CIFAR10(data_path, train=False, download= True, transform=transforms.ToTensor())"
      ]
    },
    {
      "cell_type": "code",
      "execution_count": 4,
      "metadata": {
        "colab": {
          "base_uri": "https://localhost:8080/"
        },
        "id": "iaEu9XyAbQnA",
        "outputId": "7d7e0498-cedc-4a8b-be6c-c6358c66192e"
      },
      "outputs": [
        {
          "output_type": "stream",
          "name": "stdout",
          "text": [
            "Shape of the CIFAR stack is torch.Size([3, 32, 32, 50000])\n",
            "Mean of training data is tensor([0.4914, 0.4822, 0.4465])\n",
            "Standard deviation of training data is tensor([0.2470, 0.2435, 0.2616])\n"
          ]
        }
      ],
      "source": [
        "cifar_stack = torch.stack([img for img, _ in cifar], dim=3)\n",
        "print('Shape of the CIFAR stack is',cifar_stack.shape)\n",
        "mean= cifar_stack.view(3,-1).mean(dim=1)\n",
        "std= cifar_stack.view(3,-1).std(dim=1)\n",
        "print('Mean of training data is', mean)\n",
        "print('Standard deviation of training data is', std)"
      ]
    },
    {
      "cell_type": "code",
      "execution_count": 5,
      "metadata": {
        "id": "gFxMI-jGbkuZ"
      },
      "outputs": [],
      "source": [
        "cifar_transformed = datasets.CIFAR10(data_path,train=True,download=False, transform=transforms.Compose([\n",
        "                                                                                                      transforms.RandomCrop(32, padding=4),\n",
        "    transforms.RandomHorizontalFlip(p=0.5),transforms.ToTensor(),transforms.Normalize(mean,std)\n",
        "]))\n",
        "cifar_val_transformed = datasets.CIFAR10(data_path,train=False,download=False, transform=transforms.Compose([\n",
        "                                                                                                      transforms.RandomCrop(32, padding=4),\n",
        "    transforms.RandomHorizontalFlip(p=0.5),transforms.ToTensor(),transforms.Normalize(mean,std)\n",
        "]))"
      ]
    },
    {
      "cell_type": "code",
      "execution_count": 6,
      "metadata": {
        "colab": {
          "base_uri": "https://localhost:8080/",
          "height": 448
        },
        "id": "OEPqKwgmbecl",
        "outputId": "c363debf-f42b-4c83-9207-9e93f6a82ac7"
      },
      "outputs": [
        {
          "output_type": "stream",
          "name": "stderr",
          "text": [
            "WARNING:matplotlib.image:Clipping input data to the valid range for imshow with RGB data ([0..1] for floats or [0..255] for integers).\n"
          ]
        },
        {
          "output_type": "display_data",
          "data": {
            "text/plain": [
              "<Figure size 640x480 with 1 Axes>"
            ],
            "image/png": "[encoded data removed]"
          },
          "metadata": {}
        }
      ],
      "source": [
        "# View images\n",
        "\n",
        "img, label = cifar_transformed[28]\n",
        "plt.imshow(img.permute(1, 2, 0))    \n",
        "plt.show()"
      ]
    },
    {
      "cell_type": "markdown",
      "metadata": {
        "id": "K3bOnutot4Q6"
      },
      "source": [
        "#Varied the batch size for training dataset with other parameters fixed to measure the effect of batch size.</br>\n",
        "Now, our Data is ready for Training.</br>\n"
      ]
    },
    {
      "cell_type": "code",
      "execution_count": 7,
      "metadata": {
        "id": "840E6DAybjuM"
      },
      "outputs": [],
      "source": [
        "# Parameters\n",
        "batch_size=[256,512]\n",
        "val_batch_size=100\n",
        "num_epochs=80\n",
        "# learning_rate=0.1\n",
        "\n",
        "dev=torch.device(\"cuda:0\" if torch.cuda.is_available() else \"cpu\")\n",
        "\n",
        "max_validation = 0\n",
        "max_epoch=0\n",
        "val_acc=[]\n",
        "train_acc=[]\n",
        "epochs=[]"
      ]
    },
    {
      "cell_type": "code",
      "execution_count": null,
      "metadata": {
        "id": "avav9Xfgd5-B"
      },
      "outputs": [],
      "source": [
        "for batch_no in range(len(batch_size)):\n",
        "  # Train/Test Data\n",
        "  train_loader=torch.utils.data.DataLoader(cifar_transformed,batch_size=batch_size[batch_no],shuffle=True, num_workers=4)\n",
        "  train_acc_loader=torch.utils.data.DataLoader(cifar_transformed,batch_size=val_batch_size,shuffle=False, num_workers=4)\n",
        "  val_loader = torch.utils.data.DataLoader(cifar_val_transformed, batch_size=val_batch_size, shuffle=False, num_workers=4)\n",
        "\n",
        "  # Model\n",
        "  resnet18 =ResNet18()\n",
        "  resnet18=resnet18.to(dev)\n",
        "  loss_func= torch.nn.CrossEntropyLoss()\n",
        "  optimizer = torch.optim.SGD(resnet18.parameters(), lr=0.1, momentum=0.9, weight_decay=5e-4)\n",
        "  scheduler = torch.optim.lr_scheduler.CosineAnnealingLR(optimizer, T_max=100)\n",
        "\n",
        "  for i in range(num_epochs):\n",
        "    # Training\n",
        "    for imgs, labels in train_loader:\n",
        "      if dev is not None:\n",
        "        imgs,labels=imgs.to(dev),labels.to(dev)\n",
        "      out= resnet18(imgs)\n",
        "      loss=loss_func(out,labels)\n",
        "      optimizer.zero_grad()\n",
        "      loss.backward()\n",
        "      optimizer.step()\n",
        "    \n",
        "    correct_val = 0\n",
        "    total_val = 0\n",
        "    correct_train_acc=0\n",
        "    total_train_acc=0\n",
        "    # Testing\n",
        "    with torch.no_grad():\n",
        "      for imgs, labels in val_loader:\n",
        "        if dev is not None:\n",
        "          imgs,labels=imgs.to(dev),labels.to(dev)\n",
        "        outputs = resnet18(imgs) \n",
        "        _, predicted = torch.max(outputs, dim=1) \n",
        "        total_val += labels.shape[0]\n",
        "        correct_val += int((predicted == labels).sum())\n",
        "      val_acc.append(correct_val/total_val)\n",
        "\n",
        "    # Compute Loss and Accuracy on training data\n",
        "      for train_acc_imgs,train_acc_labels in train_acc_loader:\n",
        "        if dev is not None:\n",
        "          train_acc_imgs,train_acc_labels=train_acc_imgs.to(dev),train_acc_labels.to(dev)\n",
        "        train_acc_out=resnet18(train_acc_imgs)\n",
        "        _, train_acc_predicted = torch.max(train_acc_out, dim=1)\n",
        "        total_train_acc += train_acc_labels.shape[0]\n",
        "        correct_train_acc += int((train_acc_predicted == train_acc_labels).sum())\n",
        "        # minibatch_acc = accuracy(train_acc, train_acc_labels,1)[0]\n",
        "        # print(\"Top-1 training accuracy for minibatch\", minibatch_acc)\n",
        "      train_acc.append(correct_train_acc/total_train_acc)\n",
        "      \n",
        "      \n",
        "      if correct_val/total_val > max_validation:\n",
        "        max_validation=correct_val/total_val\n",
        "        max_epoch=i\n",
        "        torch.save(resnet18,'./scratch.pt' )\n",
        "    epochs.append(i)\n",
        "\n",
        "    \n",
        "\n",
        "    if i%1==0:\n",
        "      print(\"Epoch no %d:\\t Train Loss: %f \\t Train Accuracy: %f \\t Validation Accuracy: %f\" % (i+1, float(loss), correct_train_acc / total_train_acc, correct_val / total_val))\n",
        "      # print(\"Train Accuracy: \", correct_train_acc / total_train_acc)\n",
        "      # print(\"Validation Accuracy: \", correct_val / total_val)\n",
        "    \n",
        "    scheduler.step()\n",
        "\n",
        "  print(max_validation)\n",
        "\n",
        "  # Plot Train Accuracy vs Test Accuracy\n",
        "  plt.plot(epochs, val_acc, label=\"Accuracy Test\", color=\"yellow\", linestyle='-')\n",
        "  plt.plot(epochs, train_acc, label=\"Accuracy Train\", color=\"red\",linestyle=':')\n",
        "  plt.scatter([max_epoch], [max_validation],color=\"blue\", marker=\"#\", label=\"Maximum Value\", s=100 )\n",
        "  plt.title(\"Batch Size Model\")\n",
        "  plt.legend()\n",
        "  plt.tight_layout()\n",
        "  plt.show()"
      ]
    },
    {
      "cell_type": "markdown",
      "metadata": {
        "id": "5LslVlS_wMTH"
      },
      "source": [
        "#Varied the no of epochs with a fixed batch size to measure the effect of varying the epoch size.</br>\n",
        "\n"
      ]
    },
    {
      "cell_type": "code",
      "execution_count": null,
      "metadata": {
        "id": "8KQPLlOpwmED"
      },
      "outputs": [],
      "source": [
        "# Parameters\n",
        "batch_size=512\n",
        "val_batch_size=100\n",
        "num_epochs=[100,120]\n",
        "# learning_rate=2*1e-3\n",
        "\n",
        "dev=torch.device(\"cuda:0\" if torch.cuda.is_available() else \"cpu\")\n",
        "\n",
        "max_validation = 0\n",
        "max_epoch=0\n",
        "val_acc=[]\n",
        "train_acc=[]\n",
        "epochs=[]"
      ]
    },
    {
      "cell_type": "code",
      "execution_count": null,
      "metadata": {
        "id": "G-0Q_Wy0wsPo"
      },
      "outputs": [],
      "source": [
        "for epoch_no in range(len(num_epochs)):\n",
        "  # Train/Test Data\n",
        "  train_loader=torch.utils.data.DataLoader(cifar_transformed,batch_size=batch_size,shuffle=True, num_workers=4)\n",
        "  train_acc_loader=torch.utils.data.DataLoader(cifar_transformed,batch_size=val_batch_size,shuffle=False, num_workers=4)\n",
        "  val_loader = torch.utils.data.DataLoader(cifar_val_transformed, batch_size=val_batch_size, shuffle=False, num_workers=4)\n",
        "\n",
        "  # Model\n",
        "  resnet18 =ResNet18()\n",
        "  resnet18=resnet18.to(dev)\n",
        "  loss_func= torch.nn.CrossEntropyLoss()\n",
        "  optimizer = torch.optim.SGD(resnet18.parameters(), lr=0.1, momentum=0.9, weight_decay=5e-4)\n",
        "  scheduler = torch.optim.lr_scheduler.CosineAnnealingLR(optimizer, T_max=100)\n",
        "\n",
        "  for i in range(num_epochs[epoch_no]):\n",
        "    # Training\n",
        "    for imgs, labels in train_loader:\n",
        "      if dev is not None:\n",
        "        imgs,labels=imgs.to(dev),labels.to(dev)\n",
        "      out= resnet18(imgs)\n",
        "      loss=loss_func(out,labels)\n",
        "      optimizer.zero_grad()\n",
        "      loss.backward()\n",
        "      optimizer.step()\n",
        "    \n",
        "    correct_val = 0\n",
        "    total_val = 0\n",
        "    correct_train_acc=0\n",
        "    total_train_acc=0\n",
        "    # Testing\n",
        "    with torch.no_grad():\n",
        "      for imgs, labels in val_loader:\n",
        "        if dev is not None:\n",
        "          imgs,labels=imgs.to(dev),labels.to(dev)\n",
        "        outputs = resnet18(imgs) \n",
        "        _, predicted = torch.max(outputs, dim=1) \n",
        "        total_val += labels.shape[0]\n",
        "        correct_val += int((predicted == labels).sum())\n",
        "      val_acc.append(correct_val/total_val)\n",
        "\n",
        "    # Compute Loss and Accuracy on training data\n",
        "      for train_acc_imgs,train_acc_labels in train_acc_loader:\n",
        "        if dev is not None:\n",
        "          train_acc_imgs,train_acc_labels=train_acc_imgs.to(dev),train_acc_labels.to(dev)\n",
        "        train_acc_out=resnet18(train_acc_imgs)\n",
        "        _, train_acc_predicted = torch.max(train_acc_out, dim=1)\n",
        "        total_train_acc += train_acc_labels.shape[0]\n",
        "        correct_train_acc += int((train_acc_predicted == train_acc_labels).sum())\n",
        "        # minibatch_acc = accuracy(train_acc, train_acc_labels,1)[0]\n",
        "        # print(\"Top-1 training accuracy for minibatch\", minibatch_acc)\n",
        "      train_acc.append(correct_train_acc/total_train_acc)\n",
        "      \n",
        "      \n",
        "      if correct_val/total_val > max_validation:\n",
        "        max_validation=correct_val/total_val\n",
        "        max_epoch=i\n",
        "    epochs.append(i)\n",
        "\n",
        "    \n",
        "\n",
        "    if i%1==0:\n",
        "      print(\"Epoch no %d:\\t Train Loss: %f \\t Train Accuracy: %f \\t Validation Accuracy: %f\" % (i+1, float(loss), correct_train_acc / total_train_acc, correct_val / total_val))\n",
        "    \n",
        "    scheduler.step()\n",
        "\n",
        "  print(max_validation)\n",
        "\n",
        "  # Plot Train Accuracy vs Test Accuracy\n",
        "  plt.plot(epochs, val_acc, label=\"Accuracy Test\", color=\"yellow\", linestyle='-')\n",
        "  plt.plot(epochs, train_acc, label=\"Accuracy Train\", color=\"red\",linestyle=':')\n",
        "  plt.scatter([max_epoch], [max_validation],color=\"blue\", marker=\"#\", label=\"The Maximum Value\", s=100 )\n",
        "  plt.title(\"Varying Epochs Model\")\n",
        "  plt.legend()\n",
        "  plt.tight_layout()\n",
        "  plt.show()"
      ]
    },
    {
      "cell_type": "markdown",
      "metadata": {
        "id": "TiBkSYZQ0u95"
      },
      "source": [
        "#Varied the learning rate [0.1, 0.01, 0.001, 0.0001] on fixed batch size and fixed no of epoch to observe the effect of varying the epoch size</br>\n",
        "Results for lr = 0.1 have been shown above  "
      ]
    },
    {
      "cell_type": "code",
      "execution_count": null,
      "metadata": {
        "id": "MqiN7lbP0vbm"
      },
      "outputs": [],
      "source": [
        "# Parameters\n",
        "batch_size=512\n",
        "val_batch_size=100\n",
        "num_epochs=100\n",
        "learning_rate=[0.01, 0.001, 0.0001]\n",
        "\n",
        "dev=torch.device(\"cuda:0\" if torch.cuda.is_available() else \"cpu\")\n",
        "\n",
        "max_validation = 0\n",
        "max_epoch=0\n",
        "val_acc=[]\n",
        "train_acc=[]\n",
        "epochs=[]"
      ]
    },
    {
      "cell_type": "code",
      "execution_count": null,
      "metadata": {
        "id": "lR8bSdzT0wD9"
      },
      "outputs": [],
      "source": [
        "for lr_no in range(len(learning_rate)):\n",
        "  # Train/Test Data\n",
        "  train_loader=torch.utils.data.DataLoader(cifar_transformed,batch_size=batch_size,shuffle=True, num_workers=4)\n",
        "  train_acc_loader=torch.utils.data.DataLoader(cifar_transformed,batch_size=val_batch_size,shuffle=False, num_workers=4)\n",
        "  val_loader = torch.utils.data.DataLoader(cifar_val_transformed, batch_size=val_batch_size, shuffle=False, num_workers=4)\n",
        "\n",
        "  # Model\n",
        "  resnet18 =ResNet18()\n",
        "  resnet18=resnet18.to(dev)\n",
        "  loss_func= torch.nn.CrossEntropyLoss()\n",
        "  optimizer = torch.optim.SGD(resnet18.parameters(), lr=learning_rate[lr_no], momentum=0.9, weight_decay=5e-4)\n",
        "  scheduler = torch.optim.lr_scheduler.CosineAnnealingLR(optimizer, T_max=100)\n",
        "\n",
        "  for i in range(num_epochs):\n",
        "    # Training\n",
        "    for imgs, labels in train_loader:\n",
        "      if dev is not None:\n",
        "        imgs,labels=imgs.to(dev),labels.to(dev)\n",
        "      out= resnet18(imgs)\n",
        "      loss=loss_func(out,labels)\n",
        "      optimizer.zero_grad()\n",
        "      loss.backward()\n",
        "      optimizer.step()\n",
        "    \n",
        "    correct_val = 0\n",
        "    total_val = 0\n",
        "    correct_train_acc=0\n",
        "    total_train_acc=0\n",
        "    # Testing\n",
        "    with torch.no_grad():\n",
        "      for imgs, labels in val_loader:\n",
        "        if dev is not None:\n",
        "          imgs,labels=imgs.to(dev),labels.to(dev)\n",
        "        outputs = resnet18(imgs) \n",
        "        _, predicted = torch.max(outputs, dim=1) \n",
        "        total_val += labels.shape[0]\n",
        "        correct_val += int((predicted == labels).sum())\n",
        "      val_acc.append(correct_val/total_val)\n",
        "\n",
        "    # Compute Loss and Accuracy on training data\n",
        "      for train_acc_imgs,train_acc_labels in train_acc_loader:\n",
        "        if dev is not None:\n",
        "          train_acc_imgs,train_acc_labels=train_acc_imgs.to(dev),train_acc_labels.to(dev)\n",
        "        train_acc_out=resnet18(train_acc_imgs)\n",
        "        _, train_acc_predicted = torch.max(train_acc_out, dim=1)\n",
        "        total_train_acc += train_acc_labels.shape[0]\n",
        "        correct_train_acc += int((train_acc_predicted == train_acc_labels).sum())\n",
        "        # minibatch_acc = accuracy(train_acc, train_acc_labels,1)[0]\n",
        "        # print(\"Top-1 training accuracy for minibatch\", minibatch_acc)\n",
        "      train_acc.append(correct_train_acc/total_train_acc)\n",
        "      \n",
        "      \n",
        "      if correct_val/total_val > max_validation:\n",
        "        max_validation=correct_val/total_val\n",
        "        max_epoch=i\n",
        "    epochs.append(i)\n",
        "\n",
        "    \n",
        "\n",
        "    if i%1==0:\n",
        "      print(\"Epoch no %d:\\t Train Loss: %f \\t Train Accuracy: %f \\t Validation Accuracy: %f\" % (i+1, float(loss), correct_train_acc / total_train_acc, correct_val / total_val))\n",
        "    \n",
        "    scheduler.step()\n",
        "\n",
        "  print(max_validation)\n",
        "\n",
        "  # Plot Train Accuracy vs Test Accuracy\n",
        "  plt.plot(epochs, val_acc, label=\"Accuracy Test\", color=\"yellow\", linestyle='-')\n",
        "  plt.plot(epochs, train_acc, label=\"Accuracy Train\", color=\"red\",linestyle=':')\n",
        "  plt.scatter([max_epoch], [max_validation],color=\"blue\", marker=\"#\", label=\"Maximum value\", s=100 )\n",
        "  plt.title(\"Varying Learning Rate Model\")\n",
        "  plt.legend()\n",
        "  plt.tight_layout()\n",
        "  plt.show()"
      ]
    }
  ],
  "metadata": {
    "accelerator": "GPU",
    "colab": {
      "machine_shape": "hm",
      "provenance": []
    },
    "gpuClass": "standard",
    "kernelspec": {
      "display_name": "Python 3 (ipykernel)",
      "language": "python",
      "name": "python3"
    },
    "language_info": {
      "codemirror_mode": {
        "name": "ipython",
        "version": 3
      },
      "file_extension": ".py",
      "mimetype": "text/x-python",
      "name": "python",
      "nbconvert_exporter": "python",
      "pygments_lexer": "ipython3",
      "version": "3.9.7"
    },
    "vscode": {
      "interpreter": {
        "hash": "40d3a090f54c6569ab1632332b64b2c03c39dcf918b08424e98f38b5ae0af88f"
      }
    }
  },
  "nbformat": 4,
  "nbformat_minor": 0
}